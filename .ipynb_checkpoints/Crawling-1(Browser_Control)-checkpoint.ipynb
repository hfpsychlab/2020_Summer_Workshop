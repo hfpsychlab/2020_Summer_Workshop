{
 "cells": [
  {
   "cell_type": "markdown",
   "metadata": {},
   "source": [
    "# <<브라우저를 제어해서 크롤링하기>>"
   ]
  },
  {
   "cell_type": "markdown",
   "metadata": {},
   "source": [
    "## <로그인이 필요한 웹페이지>\n",
    "로그인이 필요한 웹페이지의 경우, 직접 로그인을 하지 않으면 웹페이지의 내용들을 볼 수 없도록 하는 것이 가능하다. 그러나 브라우저를 제어하여 브라우저에서 하는 작업을 프로그래밍으로 하도록 만들면 로그인 문제를 해결할 수 있다."
   ]
  },
  {
   "cell_type": "markdown",
   "metadata": {},
   "source": [
    "## Selenium\n",
    "브라우저를 제어한다는 것은, 프로그램을 조작하여 사람이 하는 것처럼 데이터를 요청하여 크롤링하는 방식이다.그를 위한 방법 중 가장 대표적인 것은 **Selenium**이다.<br>\n",
    "공식 홈페이지(http://www.seleniumhq.org/)<br>\n",
    "Selenium with Python : http://selenium‑python.readthedocs.io/index.html"
   ]
  },
  {
   "cell_type": "markdown",
   "metadata": {},
   "source": [
    "### 1. Selenium 설치\n",
    "**1) Selenium 인스톨**"
   ]
  },
  {
   "cell_type": "code",
   "execution_count": 4,
   "metadata": {},
   "outputs": [
    {
     "name": "stdout",
     "output_type": "stream",
     "text": [
      "Collecting selenium\n",
      "  Downloading https://files.pythonhosted.org/packages/80/d6/4294f0b4bce4de0abf13e17190289f9d0613b0a44e5dd6a7f5ca98459853/selenium-3.141.0-py2.py3-none-any.whl (904kB)\n",
      "Requirement already satisfied: urllib3 in c:\\users\\lovel\\anaconda3\\lib\\site-packages (from selenium) (1.24.2)\n",
      "Installing collected packages: selenium\n",
      "Successfully installed selenium-3.141.0\n",
      "Note: you may need to restart the kernel to use updated packages.\n"
     ]
    }
   ],
   "source": [
    "pip3 install selenium"
   ]
  },
  {
   "cell_type": "markdown",
   "metadata": {},
   "source": [
    "**2) 웹드라이버 인스톨**<br>\n",
    ":라이브러리가 자신의 pc에 설치되어 있는 특정 웹브라우저를 프로그램으로 제어할 수 있도록 각 웹브라우저마다 selenium을 사용할 수 있는 프로그램(드라이버).<br>\n",
    "https://sites.google.com/a/chromium.org/chromedriver/ (Chrome 브라우저용)<br>\n",
    ": chromedriver 설치 후, selenium 디렉토리의 webdriver>chrome에 파일 옮겨 저장<br>\n",
    "(예시) C:\\Users\\lovel\\Anaconda3\\Lib\\site-packages\\selenium\\webdriver\\chrome\\chromedriver.exe<br>\n",
    "<br>\n",
    "*처음 설치 후 브라우저를 업데이트할 경우, 다음 사이트에서 최신 버전을 다운로드하여 덮어씌움 https://chromedriver.storage.googleapis.com/index.html <br>\n",
    "윈도우: C:/dev_python/Webdriver/chromedriver.exe <br>\n",
    "맥: /usr/local/Cellar/chromedriver/chromedriver"
   ]
  },
  {
   "cell_type": "markdown",
   "metadata": {},
   "source": [
    "## Selenium 사용법\n",
    "1) Selenium 로드<br>\n",
    "라이브러리를 import할 때는 통상적으로 아래 두 가지 방법을 쓴다."
   ]
  },
  {
   "cell_type": "code",
   "execution_count": 1,
   "metadata": {},
   "outputs": [],
   "source": [
    "from selenium import webdriver\n",
    "from selenium.webdriver.common.keys import Keys"
   ]
  },
  {
   "cell_type": "markdown",
   "metadata": {},
   "source": [
    "저장한 directory로부터 chrome driver 로드, driver로 chrome driver을 쓰겠다고 선언.<br>\n",
    "코드 실행 결과로 인해 자동으로 오픈되는 브라우저를 열어놓아야 추후 Selenium사용이 가능함"
   ]
  },
  {
   "cell_type": "code",
   "execution_count": 10,
   "metadata": {},
   "outputs": [],
   "source": [
    "chromedriver = 'C:\\\\Users\\\\lovel\\\\Anaconda3\\\\Lib\\\\site-packages\\\\selenium\\\\webdriver\\\\chrome\\\\chromedriver.exe'\n",
    "#chromedriver의 경로를 정확히 기재해야 함\n",
    "driver = webdriver.Chrome(chromedriver)"
   ]
  },
  {
   "cell_type": "markdown",
   "metadata": {},
   "source": [
    "2) 크롤링 사이트 호출 및 확인"
   ]
  },
  {
   "cell_type": "code",
   "execution_count": 12,
   "metadata": {},
   "outputs": [
    {
     "name": "stdout",
     "output_type": "stream",
     "text": [
      "Welcome to Python.org\n",
      "https://www.python.org/\n"
     ]
    }
   ],
   "source": [
    "driver.get(\"http://www.python.org\")\n",
    "print(driver.title) #webpage의 타이틀 출력\n",
    "print(driver.current_url) #해당 웹페이지의 url주소 출력"
   ]
  },
  {
   "cell_type": "markdown",
   "metadata": {},
   "source": [
    "3) 특정 사이트에서 검색 결과 가져오기\n",
    "* 특정 사이트의 소스코드를 보려면 '오른쪽 버튼>페이지 소스 보기'를 누르거나, 'F12'를 눌러 개발자 모드를 사용하면 편리하다."
   ]
  },
  {
   "cell_type": "markdown",
   "metadata": {},
   "source": [
    "주요 함수:\n",
    "* assert: driver.page_source에서 특정 키워드 확인하기<br>\n",
    ": 코드가 브라우저에 대해 제대로 동작하는지 external하게 확인하기 위해 Selenium을 이용해 자동으로 웹테스트를 진행하는 방법(assert 뒤에 오는 element가 있을 경우 이어지는 프로그램을 실행하고 없어서 에러가 날 경우 프로그램이 거기서 끝나도록 하는 코드)\n",
    "* find_element_by_name(): 최초 발견한 name으로 가져오기<br>\n",
    "* find_elements_by_name(): name이 동일한 검색 결과를 리스트 형태로 가져오기\n",
    "\n",
    "(위 함수를 이용하여 가져온 데이터에 대해 여러 가지 액션을 취할 수 있다)\n",
    "* clear(): input 텍스트 초기화 하기\n",
    "* send_keys(키워드): 키보드 입력값 전달하기(키보드 동작 제어)\n",
    " * Keys.RETURN - 엔터키\n",
    " * dir(Keys) 로 키에 대응되는 이름 찾기"
   ]
  },
  {
   "cell_type": "code",
   "execution_count": 13,
   "metadata": {},
   "outputs": [
    {
     "data": {
      "text/plain": [
       "['ADD',\n",
       " 'ALT',\n",
       " 'ARROW_DOWN',\n",
       " 'ARROW_LEFT',\n",
       " 'ARROW_RIGHT',\n",
       " 'ARROW_UP',\n",
       " 'BACKSPACE',\n",
       " 'BACK_SPACE',\n",
       " 'CANCEL',\n",
       " 'CLEAR',\n",
       " 'COMMAND',\n",
       " 'CONTROL',\n",
       " 'DECIMAL',\n",
       " 'DELETE',\n",
       " 'DIVIDE',\n",
       " 'DOWN',\n",
       " 'END',\n",
       " 'ENTER',\n",
       " 'EQUALS',\n",
       " 'ESCAPE',\n",
       " 'F1',\n",
       " 'F10',\n",
       " 'F11',\n",
       " 'F12',\n",
       " 'F2',\n",
       " 'F3',\n",
       " 'F4',\n",
       " 'F5',\n",
       " 'F6',\n",
       " 'F7',\n",
       " 'F8',\n",
       " 'F9',\n",
       " 'HELP',\n",
       " 'HOME',\n",
       " 'INSERT',\n",
       " 'LEFT',\n",
       " 'LEFT_ALT',\n",
       " 'LEFT_CONTROL',\n",
       " 'LEFT_SHIFT',\n",
       " 'META',\n",
       " 'MULTIPLY',\n",
       " 'NULL',\n",
       " 'NUMPAD0',\n",
       " 'NUMPAD1',\n",
       " 'NUMPAD2',\n",
       " 'NUMPAD3',\n",
       " 'NUMPAD4',\n",
       " 'NUMPAD5',\n",
       " 'NUMPAD6',\n",
       " 'NUMPAD7',\n",
       " 'NUMPAD8',\n",
       " 'NUMPAD9',\n",
       " 'PAGE_DOWN',\n",
       " 'PAGE_UP',\n",
       " 'PAUSE',\n",
       " 'RETURN',\n",
       " 'RIGHT',\n",
       " 'SEMICOLON',\n",
       " 'SEPARATOR',\n",
       " 'SHIFT',\n",
       " 'SPACE',\n",
       " 'SUBTRACT',\n",
       " 'TAB',\n",
       " 'UP',\n",
       " '__class__',\n",
       " '__delattr__',\n",
       " '__dict__',\n",
       " '__dir__',\n",
       " '__doc__',\n",
       " '__eq__',\n",
       " '__format__',\n",
       " '__ge__',\n",
       " '__getattribute__',\n",
       " '__gt__',\n",
       " '__hash__',\n",
       " '__init__',\n",
       " '__init_subclass__',\n",
       " '__le__',\n",
       " '__lt__',\n",
       " '__module__',\n",
       " '__ne__',\n",
       " '__new__',\n",
       " '__reduce__',\n",
       " '__reduce_ex__',\n",
       " '__repr__',\n",
       " '__setattr__',\n",
       " '__sizeof__',\n",
       " '__str__',\n",
       " '__subclasshook__',\n",
       " '__weakref__']"
      ]
     },
     "execution_count": 13,
     "metadata": {},
     "output_type": "execute_result"
    }
   ],
   "source": [
    "assert \"Python\" in driver.title\n",
    "\n",
    "elem= driver.find_element_by_name(\"q\")\n",
    "#크롤링의 대상이 되는 웹페이지에서 이름이 q인 검색 결과는 검색 박스임.\n",
    "\n",
    "elem.clear() #검색창에 입력되어 있던 텍스트가 없어지는 액션\n",
    "elem.send_keys(\"python\") #검색창에'python'을 입력하는 액션\n",
    "elem.send_keys(Keys.RETURN) #검색창에 대해 엔터를 치는 액션\n",
    "dir(Keys) \n",
    "#key에 저장된 attribute(특정 클래스의 함수/변수)들과 methond들을 출력해주는 함수(참고)\n",
    "#출력값을 보고, 앞서 쓴 Keys(class).RETURN(함수)뿐만 아니라 다른 것들을 넣어 필요한 동작을 제어할 수 있다"
   ]
  },
  {
   "cell_type": "markdown",
   "metadata": {},
   "source": [
    "* time.sleep(): 일정 시간 브라우저 내용 확인하기\n",
    "* driver.quit(): 브라우저 끝내기"
   ]
  },
  {
   "cell_type": "code",
   "execution_count": 35,
   "metadata": {},
   "outputs": [],
   "source": [
    "assert \"No results found.\" not in driver.page_source\n",
    "#define한 driver.page_source라는 스트링에서(=\"python\"을 검색한 상태의 웹페이지 소스)\n",
    "#\"No results found\"가 나오면(검색 결과가 없을 때에는) 에러를 내서 코드를 멈추도록\n",
    "#웹페이지를 제어하여 검색한 결과가 나오지 않는 경우를 프로그램으로 detect할 수 있도록 하기 위해서임\n",
    "\n",
    "import time\n",
    "time.sleep(10) \n",
    "#명시적으로 지정한 시간 동안 기다리며 웹브라우저에 검색 결과가 충분히 표시되도록\n",
    "#원하는 데이터를 얻기도 전에 프로그램에서 다음 코드를 실행하는 불상사를 방지하기 위해\n",
    "driver.quit() #웹페이지 자동 닫기 가능"
   ]
  },
  {
   "cell_type": "markdown",
   "metadata": {},
   "source": [
    "(지금까지 살펴본 함수 외에) 데이터 가져오기 주요 함수\n",
    "* find_element_by_id\n",
    "* find_element_by_tag_name: element는 최초 태그 이름, elements는 모든 태그 이름\n",
    "* find_element_by_class_name \n",
    "* find_element_by_css_selector\n",
    "* find_element_by_xpath (XPATH 문법 이해 필요)<br>\n",
    "<br>\n",
    "이 중 element_by_tag_name을 이용하여 크롤링해보는 예제:"
   ]
  },
  {
   "cell_type": "code",
   "execution_count": 41,
   "metadata": {},
   "outputs": [
    {
     "name": "stdout",
     "output_type": "stream",
     "text": [
      "\n",
      "Results\n",
      "Python Documentation by Version\n",
      "Download Python for Other Platforms\n",
      "Release – Python 2.5.3\n",
      "Python 2.5.4 Release\n",
      "Release – Python 2.5.4\n",
      "Python 2.5.3 Release\n",
      "Python 2.5 Release\n",
      "Python 2.5.2 Release\n",
      "Sunsetting Python 2\n",
      "Python 2.5.1 Release\n",
      "Release – Python 3.1.4\n",
      "Release – Python 2.5.0\n",
      "Release – Python 2.5.2\n",
      "Python 3.1.4 Release\n",
      "Python 3.1.3 Release\n",
      "Release – Python 2.5.1\n",
      "Python 3.2.1 Release\n",
      "Release – Python 2.7.9rc1\n",
      "Python 3.0 Release\n",
      "Python 3.2.5 Release\n"
     ]
    }
   ],
   "source": [
    "#웹페이지를 닫은 후이므로 제어를 위해 웹브라우저를 다시 자동으로 연다\n",
    "chromedriver = 'C:\\\\Users\\\\lovel\\\\Anaconda3\\\\Lib\\\\site-packages\\\\selenium\\\\webdriver\\\\chrome\\\\chromedriver.exe'\n",
    "driver = webdriver.Chrome(chromedriver)\n",
    "driver.get(\"http://www.python.org\")\n",
    "\n",
    "#다시 python을 검색한 후, result에 해당하는 제목을 추출하는 크롤링 진행\n",
    "assert \"Python\" in driver.title\n",
    "elem= driver.find_element_by_name(\"q\")\n",
    "elem.send_keys(\"python\") \n",
    "elem.send_keys(Keys.RETURN)\n",
    "assert \"No results found.\" not in driver.page_source\n",
    "time.sleep(3)\n",
    "h3s= driver.find_elements_by_tag_name(\"h3\") #페이지 소스에는 h3로 태깅되어 있음\n",
    "for h3 in h3s:\n",
    "    print (h3.text) #내가 원하는 크롤링 데이터는 h3의 text에 들어가있음: 프린트\n",
    "driver.quit()"
   ]
  },
  {
   "cell_type": "markdown",
   "metadata": {},
   "source": [
    "<br>\n",
    "element_by_id를 이용하여 크롤링해보기:"
   ]
  },
  {
   "cell_type": "code",
   "execution_count": 8,
   "metadata": {},
   "outputs": [
    {
     "name": "stdout",
     "output_type": "stream",
     "text": [
      "Welcome to Python.org\n"
     ]
    }
   ],
   "source": [
    "#웹페이지를 닫은 후이므로 제어를 위해 웹브라우저를 다시 자동으로 연다\n",
    "chromedriver = 'C:\\\\Users\\\\lovel\\\\Anaconda3\\\\Lib\\\\site-packages\\\\selenium\\\\webdriver\\\\chrome\\\\chromedriver.exe'\n",
    "driver = webdriver.Chrome(chromedriver)\n",
    "driver.get(\"http://www.python.org\")\n",
    "print(driver.title)\n",
    "\n",
    "assert \"Python\" in driver.title\n",
    "search= driver.find_element_by_id(\"id-search-field\")\n",
    "search.clear()\n",
    "search.send_keys(\"python\")\n",
    "search.send_keys(Keys.RETURN)"
   ]
  },
  {
   "cell_type": "markdown",
   "metadata": {},
   "source": [
    "## Phantom JS(참고), Headless Chrome\n",
    "Selenium라이브러리를 사용, 어떤 프로그램을 로드하냐의 차이.\n",
    "\n",
    "### Phantom JS(참고)\n",
    "Selenium이 웹페이지를 화면 상에 직접 실행시킨다면, Phantom JS는 실행하면 화면은 띄우지는 않음. 시간이 단축될 것이라고 기대하지만, 실제로는 유사하거나 느린 경우도 있으므로 경우에 따라 선택적으로 사용\n",
    "\n",
    "*최근에는 Selenium라이브러리에서 Phantom JS를 지원하지 않게 됨. 최신 파이썬 버전에서는 Phantom JS 대신 Headless Chrome 사용이 권장됨*"
   ]
  },
  {
   "cell_type": "markdown",
   "metadata": {},
   "source": [
    "## Headless Chrome\n",
    "크롬브라우저의 하나의 기능으로 개발, 팬텀JS와 완벽하게 유사한 목적으로 개발됨<br>\n",
    "적용이 안 되는 경우도 맞기 때문에 Selenium과 Headless chrome을 다 테스트해보고 되는 것으로 사용하는 것이 좋다.<br>\n",
    "\n",
    "차이점이라면 Phantom JS와 달리 Selenium 설치가 완료되었다면 추가적인 설치가 필요 없다.<br>\n",
    "\n",
    "앞서 배운 코드들을 활용하여 Headless Chrome을 실행시키려면, 로드하는 부분의 코드만 바꾸면 된다([10번] 코드에 더해 추가 코드를 작성하여 실행)<br>"
   ]
  },
  {
   "cell_type": "code",
   "execution_count": 3,
   "metadata": {},
   "outputs": [],
   "source": [
    "headless_options= webdriver.ChromeOptions()\n",
    "headless_options.add_argument('headless') \n",
    "#chromedriver로드 전에 로드 시 사용할 headless라는 옵션을 만든 것\n",
    "chromedriver = 'C:\\\\Users\\\\lovel\\\\Anaconda3\\\\Lib\\\\site-packages\\\\selenium\\\\webdriver\\\\chrome\\\\chromedriver.exe'\n",
    "driver = webdriver.Chrome(chromedriver, options=headless_options)"
   ]
  },
  {
   "cell_type": "markdown",
   "metadata": {},
   "source": [
    "headless option외에도 여러 옵션을 넣어서 조금 더 사용자가 웹페이지에 실제로 들어간 것처럼 보이게끔 할 수 있다."
   ]
  },
  {
   "cell_type": "code",
   "execution_count": 5,
   "metadata": {},
   "outputs": [],
   "source": [
    "web_options= webdriver.ChromeOptions()\n",
    "web_options.add_argument('window-size=1920x1080') #웹페이지 창의 사이즈 지정\n",
    "web_options.add_argument(\"disable-gpu\") #그래픽카드를 쓰지 않겠다는 선언\n",
    "web_options.add_argument(\"헤더\")\n",
    "#크롤링할 서버로 전송되는 ip주소의 헤더에서 \"headless chrome\"정보를 빼도록\n",
    "#웹브라우저에서 사용자가 페이지에 실제로 접속할 때의 헤더 내용으로 크롤링 헤더 내용을 바꾸어 전송\n",
    "web_options.add_argument(\"lang=ko_KR\") #언어를 한국어로"
   ]
  },
  {
   "attachments": {
    "image.png": {
     "image/png": "[encoded data removed]"
    }
   },
   "cell_type": "markdown",
   "metadata": {},
   "source": [
    "## 실전 예제: 다음 뉴스 기사 크롤링\n",
    "### 1. 다음 뉴스 기사 제목 가져오기\n",
    "개발자 모드(F12)를 눌러, 제목에 해당하는 소스를 찾으면 tag, class 등을 확인할 수 있다\n",
    "![image.png](attachment:image.png)"
   ]
  },
  {
   "cell_type": "code",
   "execution_count": 8,
   "metadata": {},
   "outputs": [
    {
     "name": "stdout",
     "output_type": "stream",
     "text": [
      "'포켓몬고' 상륙 1주일.. 대한민국 곳곳이 들썩\n",
      "'포켓몬고' 상륙 1주일.. 대한민국 곳곳이 들썩\n",
      "'포켓몬고' 상륙 1주일.. 대한민국 곳곳이 들썩\n"
     ]
    }
   ],
   "source": [
    "from selenium import webdriver\n",
    "from selenium.webdriver.common.keys import Keys\n",
    "\n",
    "chromedriver = 'C:\\\\Users\\\\lovel\\\\Anaconda3\\\\Lib\\\\site-packages\\\\selenium\\\\webdriver\\\\chrome\\\\chromedriver.exe'\n",
    "headless_options= webdriver.ChromeOptions()\n",
    "headless_options.add_argument('headless') \n",
    "headless_options.add_argument('window-size=1920x1080')\n",
    "headless_options.add_argument(\"lang=ko_KR\")\n",
    "web_options.add_argument(\"disable-gpu\")\n",
    "driver = webdriver.Chrome(chromedriver, options=headless_options)\n",
    "\n",
    "driver.get('https://news.v.daum.net/v/20170202185812986')\n",
    "title= driver.find_element_by_tag_name('h3') #제목의 태그인 h3를 찾는다\n",
    "print (title.text)\n",
    "\n",
    "title= driver.find_element_by_class_name('tit_view')\n",
    "print (title.text)\n",
    "\n",
    "title= driver.find_element_by_css_selector('h3.tit_view')\n",
    "print(title.text)\n",
    "\n",
    "driver.quit()"
   ]
  },
  {
   "attachments": {
    "image.png": {
     "image/png": "[encoded data removed]"
    }
   },
   "cell_type": "markdown",
   "metadata": {},
   "source": [
    "### 2. 다음 뉴스 기사 내용 가져오기\n",
    "개발자 모드(F12)를 눌러, 제목에 해당하는 소스를 찾으면 tag, class 등을 확인할 수 있다.\n",
    "![image.png](attachment:image.png)\n",
    "<br>\n",
    "이때 주의점:\n",
    "* head 태그 관련: get_attribute('text') (이 함수로 text를 호출해줘야 한다)<br>\n",
    "* body 태그 관련: text (함수로 호출해주면 안 나오고, text자체를 입력해야 한다)<br>\n",
    "![image.png](attachment:image.png)\n",
    "-> 지금까지는 태그 혹은 id를 다 body에서 찾았기 때문에 변수.text로 호출했고, head로부터 호출하고 싶다면 get_attribute함수를 써야 한다는 의미."
   ]
  },
  {
   "cell_type": "code",
   "execution_count": 7,
   "metadata": {},
   "outputs": [
    {
     "name": "stdout",
     "output_type": "stream",
     "text": [
      "이용자수 700만명 육박 국민 10명중 1명이 경험\n",
      "전국 번화가.공원 '북적' 지역 상권도 후광효과\n",
      "출몰 잦은'포세권' 편의점 핫팩.간식 등 매출 급증\n",
      "지난달 24일 출시된 모바일게임 '포켓몬고'가 출시 1주일여만에 우리나라 거리 풍경을 크게 바꿔놨다. 번화가나 공원 등 거리 곳곳에서 손에 스마트폰을 들고 '포켓몬'을 사냥하는 모습을 손쉽게 찾아볼 수 있게 된 것이다.다른 국가에 비해 반년 가량 늦게 출시됐음에도 불구, 이용자 수가 700만명에 육박한 것으로 알려졌다. 우리나라 국민 10명 중 1명은 지난 1주일 사이에 한번은 포켓몬고 게임을 해봤다는 얘기다.\n",
      "\n",
      "지역경제 활성화에도 도움이 되고 있다. 포켓몬이 자주 출몰하는 지역으로 입소문을 탄 지역 편의점 매출이 급증하는 현상도 나타났다. 지난해 여름, 강원도 속초가 '포켓몬고' 특수를 톡톡히 누린 것과 비슷한 현상이 전국 곳곳에서 나타나고 있는 것이다.\n",
      "\n",
      "■우리 국민 10명 중 1명은 '포켓몬고' 게이머\n",
      "\n",
      "애플리케이션(앱) 분석업체 와이즈앱은 2일 전국 2만3000명의 안드로이드 스마트폰 사용자 표본조사를 바탕으로 추정한 지난 1주일간 '포켓몬고' 이용자는 698만명이라고 발표했다. 특히 10대와 20대 이용자들이 '포켓몬고'에 열광하고 있는 것으로 나타났다. 전체 이용자의 65% 이상이 10대와 20대다.\n",
      "\n",
      "이 게임 개발사인 나이언틱랩스가 설 연휴 직전에 출시한 전략도 제대로 맞아 떨어졌다. 지난 설 연휴, 고향에서 가족과 친지들이 모여 '포켓몬고'를 즐기는 모습이 곳곳에서 눈에 띄였다. 고속도로 휴게소 등에서도 포켓몬고 이용자들도 많았다.\n",
      "\n",
      "전국 번화가와 공원 등 게임 내 주요 장소인 '포켓스톱'으로 지정된 곳이 많은 지역은 '포켓몬고' 게이머들로 붐볐다. 서울 노원역, 이수역, 강남역, 잠실역 등 번화가와 부산 시민공원, 대전 오월드, 제천 의림지 등 전국 주요 장소로 '포켓몬'을 찾는 이들이 몰려들었다.\n",
      "\n",
      "지역 명소를 찾는 이들도 부쩍 늘었다. 주로 교회나 절, 조형물 등이 '포켓스톱'으로 지정돼 있기 때문에 평소에는 그냥 지나쳤던 명소를 다시 한번 돌아보게 되는 계기가 됐다는 게이머들도 많다.\n",
      "\n",
      "업계 관계자는 \"포켓스톱은 포켓몬고를 즐기기 위해 반드시 지나쳐야 하는 곳이기 때문에 평소엔 그냥 지나쳤더라도 요즘엔 멈춰서서 다시 한번 보는 경우가 많다\"며 \"겨울철이라 집안에만 있기 쉽지만 포켓몬고를 하기 위해 밖으로 걸어다니기 때문에 건강에도 긍정적\"이라고 언급했다.\n",
      "\n",
      "■'포켓몬고' 인기에 지역 상권도 '후광효과'\n",
      "\n",
      "포켓몬고는 지역 상권에도 영향을 주고 있다. '포켓몬'이 자주 출몰하는 이른바 '포세권'의 편의점은 후광효과를 톡톡히 보고 있다. 포켓몬을 쫓아온 게이머들이 대거 몰리면서 휴대폰 충전기와 핫팩은 물론 음료,간식 등의 매출이 쑥쑥 오르는 상황이다.\n",
      "\n",
      "세븐일레븐의 경우 포켓몬고 게임이 출시된 지난달 24일 이후 지난 1일까지 9일간 매출이 게임 출시 직전 9일에 비해 휴대폰 관련 용품 매출이 61.3%, 핫팩은 66.2%증가했다. 탄산음료와 컵라면,스낵과자도 같은 기간 매출이 33.5%,22%,16.3% 올랐다.\n",
      "\n",
      "'포세권'으로 입소문을 탄 부산시민공원점도 휴대용용품과 핫팩 매출이 각각 54%, 60.5% 늘었고 간식류 매출도 10~20% 증가했다. GS25의 대전오월드점은 같은 기간 커피와 차는 매출이 420%, 휴대폰 용품과 핫팩은 각각 271%, 268% 급증했다. 라면(46%)을 비롯한 간식류 매출도 크게 늘었다.\n",
      "\n",
      "세븐일레븐 관계자는 \"포켓몬고 이용자들이 많이 몰리는 지역 점포들의 관련 상품 매출이 크게 오르고 있다\"면서 \"수요가 높은 상품군 위주로 재고를 늘리고 진열도 확대하는 등 포켓몬고 특수에 대응하고 있다\"고 말했다.\n",
      "\n",
      "■일부 부작용도 있어 '주의'\n",
      "\n",
      "게임이 인기를 끌면서 일부 부작용도 나타나고 있어 이용자들의 주의가 요구된다. 출입이 금지된 구역에 등장하는 '포켓몬'을 획득하기 위해 금지구역을 넘어서거나 운전하면서 포켓몬고를 즐기는 사례가 잇따라 보고되고 있다. 해외에서도 '포켓몬고' 출시 당시 이런 부작용이 속출했는데 우리나라도 비슷한 현상을 겪고 있는 것이다.\n",
      "\n",
      "나이언틱랩스는 특정 속도 이상 빠르게 움직이면 '포켓몬'을 사냥할 수 없도록 하고 게임 도중 출입금지 구역에 가지 말라고 여러차례 공지하고 있다.\n",
      "\n",
      "jjoony@fnnews.com 허준 이환주 기자\n",
      "※ 저작권자 ⓒ . 무단 전재-재배포 금지\n"
     ]
    }
   ],
   "source": [
    "chromedriver = 'C:\\\\Users\\\\lovel\\\\Anaconda3\\\\Lib\\\\site-packages\\\\selenium\\\\webdriver\\\\chrome\\\\chromedriver.exe'\n",
    "headless_options= webdriver.ChromeOptions()\n",
    "headless_options.add_argument('headless') \n",
    "headless_options.add_argument('window-size=1920x1080')\n",
    "headless_options.add_argument(\"lang=ko_KR\")\n",
    "web_options.add_argument(\"disable-gpu\")\n",
    "driver = webdriver.Chrome(chromedriver, options=headless_options)\n",
    "\n",
    "driver.get('https://news.v.daum.net/v/20170202185812986')\n",
    "\n",
    "content= driver.find_element_by_id('harmonyContainer')\n",
    "print(content.text)\n",
    "\n",
    "driver.quit()"
   ]
  }
 ],
 "metadata": {
  "kernelspec": {
   "display_name": "Python 3",
   "language": "python",
   "name": "python3"
  },
  "language_info": {
   "codemirror_mode": {
    "name": "ipython",
    "version": 3
   },
   "file_extension": ".py",
   "mimetype": "text/x-python",
   "name": "python",
   "nbconvert_exporter": "python",
   "pygments_lexer": "ipython3",
   "version": "3.7.3"
  }
 },
 "nbformat": 4,
 "nbformat_minor": 2
}
