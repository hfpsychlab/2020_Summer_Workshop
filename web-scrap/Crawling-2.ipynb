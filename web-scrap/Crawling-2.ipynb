{
 "cells": [
  {
   "cell_type": "markdown",
   "metadata": {},
   "source": [
    "# 동적 웹페이지 크롤링\n",
    "    [다음 뉴스  기사 댓글 가져오기]"
   ]
  },
  {
   "cell_type": "markdown",
   "metadata": {},
   "source": [
    "## 4가지 기능 미리보기\n",
    "### 1. 특정 태그 일정 시간 기다리기\n",
    "\n",
    "<img src=\"cr_f1.png\" width=\"525\" height=\"122\">\n",
    "\n",
    "### 2. 특정 태그 존재 여부 확인 가능\n",
    "from selenium.webdriver.common.by  import by\n",
    "- 해당 태그가 존재하는지 확인\n",
    "    - 예(By.ID, \"alex-area\")\n",
    "- 태그 선택 방법\n",
    "    - class_name\n",
    "    - css_selector\n",
    "    - id\n",
    "    - name\n",
    "    - tag_name\n",
    "    \n",
    "###  3. 특정 태그 일정 시간 기다리기 기능\n",
    "\n",
    "<img src=\"cr_f2.png\" width=\"525\" height=\"122\">\n",
    "\n",
    "### 4. 키보드/ 마우스 동작 자동화하기\n",
    "from selenium import webdriver\n",
    "\n",
    "hidden_submenu = driver.find_element_by_css_selector(\".nav #submenu1\") <br>\n",
    "\n",
    "actions = webdriver.ActionChains(driver) <br>\n",
    "actions.click(hidden_submenu) <br>\n",
    "actions.perform()<br>\n",
    "또는 <br>\n",
    "**webdriver.ActionChains(driver).click(hidden_submenu).perform()**\n"
   ]
  },
  {
   "cell_type": "markdown",
   "metadata": {},
   "source": [
    "## 웹사이트 열기"
   ]
  },
  {
   "cell_type": "code",
   "execution_count": null,
   "metadata": {},
   "outputs": [],
   "source": [
    "chromedriver = '/usr/local/Cellar/chromedriver' # 각자 chromedriver 가 저장된 경로\n",
    "driver = webdriver.Chrome(chromedriver)\n",
    "driver.get(     ) # 괄호 안 원하는 다음 뉴스 링크 (댓글 많은 기사가 예제로 사용하기에 적절)"
   ]
  },
  {
   "cell_type": "markdown",
   "metadata": {},
   "source": [
    "## Before Crawling"
   ]
  },
  {
   "cell_type": "markdown",
   "metadata": {},
   "source": [
    "1. 웹페이지 들어가기\n",
    "2. f12 element '더보기' 소스 확인 (inspector)\n",
    "- a href=\"#more\" class=\"link_fold #more\" data-tiara-action-name=\"댓글목록_더보기\" data-reactid=\".0.0.0.3.3.0\"><span data-reactid=\".0.0.0.3.3.0.0\">더보기</span><span class=\"img_cmt img_more\" data-reactid=\".0.0.0.3.3.0.1\"></span></a>\n",
    "- copy - copy selector\n",
    "    - css selector 이용 가능\n",
    "- #alex-area > div > div > div > div.cmt_box > div.alex_more > a\n",
    "3. view page source\n",
    "4. look up \"alex area\""
   ]
  },
  {
   "cell_type": "code",
   "execution_count": null,
   "metadata": {},
   "outputs": [],
   "source": [
    "loop, count = True, 0\n",
    "# loop = 0\n",
    "# count = 0\n",
    "\n",
    "while loop and count < 10:\n",
    "    # loop and 항상 True\n",
    "    try:\n",
    "        element = WebDriverWait(driver, 5).until(\n",
    "            EC.presence_of_element_located((By.CSS_SELECTOR, '#alex-area > div > div > div > div.cmt_box > div.alex_more > a')) \n",
    "            # 해당 코드가 있는지 동적 페이지 확인\n",
    "        )\n",
    "        more_button = driver.find_element_by_css_selector('#alex-area > div > div > div > div.cmt_box > div.alex_more > a')\n",
    "        webdriver.ActionChains(driver).click(more_button).perform()\n",
    "        count += 1 # count 10까지만 할 것임\n",
    "        \n",
    "        time.sleep(2)\n",
    "        \n",
    "    except TimeoutException:\n",
    "        loop = False\n",
    "        # 더보기가 늘어날수록 count +=1, 10번 loop 사용\n",
    "        # count 10 되었을 때 loop 멈춤\n",
    "        # 10 되기 전에 더보기가 없으면 (댓글이 더이상 없다) exception 실행\n",
    "        \n",
    "# crawling code 넣을 공간\n",
    "    \n",
    "driver.quit()"
   ]
  },
  {
   "cell_type": "markdown",
   "metadata": {},
   "source": [
    "## Crawling"
   ]
  },
  {
   "cell_type": "code",
   "execution_count": null,
   "metadata": {},
   "outputs": [],
   "source": [
    "comment_box = driver.find_element_by_css_selector('#cbox_module > div.u_cbox_wrap.u_cbox_ko.u_cbox_type_sort_favorite > div.u_cbox_content_wrap > ul')\n",
    "comment_list = comment_box.find_elements_by_tag_name('li')\n",
    "comment_div = comment_box.find_elements_by_css_selector('div')\n",
    "\n",
    "\n",
    "for num, comment_item in enumerate (comment_list): #넘버링으로 댓글 추출\n",
    "    print(\"[\", str(num+1), \"] \", comment_item.find_element_by_css_selector('div span').text)\n",
    "\n"
   ]
  },
  {
   "cell_type": "markdown",
   "metadata": {},
   "source": [
    "<img src=\"cr_f3.png\" width=\"1400\" height=\"635\">\n",
    "\n",
    "**ul** 전체 댓글 박스 <br>\n",
    "**li** 각 댓글 박스 <br>\n",
    "**div p** 박스 안 댓글 텍스트 <br>"
   ]
  },
  {
   "cell_type": "markdown",
   "metadata": {},
   "source": []
  },
  {
   "cell_type": "markdown",
   "metadata": {},
   "source": [
    "## 예시\n",
    "- 적용1. 추천순 댓글은 전체 댓글 보여주지 않는 현상\n",
    "    - recent_button variable 지정해줌으로써 최신순 댓글 클릭해주기\n",
    "- 적용2. 이모티콘만 있는 댓글의 경우 오류 발생하는 현상 수정\n",
    "    - 댓글 print 할 때  try/  except 함수 사용해서 이모티콘만 있는 댓글은 스킵함"
   ]
  },
  {
   "cell_type": "code",
   "execution_count": null,
   "metadata": {},
   "outputs": [],
   "source": [
    "from selenium import webdriver\n",
    "from selenium.webdriver.common.by import By\n",
    "from selenium.webdriver.support.ui import WebDriverWait\n",
    "from selenium.webdriver.support import expected_conditions as EC\n",
    "from selenium.common.exceptions import TimeoutException\n",
    "\n",
    "import time\n",
    "\n",
    "\n",
    "chromedriver = '/usr/local/Cellar/chromedriver'\n",
    "driver = webdriver.Chrome(chromedriver)\n",
    "driver.get('https://news.v.daum.net/v/20200722164549123')\n",
    "\n",
    "recent_button = driver.find_element_by_css_selector('#alex-area > div > div > div > div.cmt_box > ul.list_category > li:nth-child(3) > button > span')\n",
    "webdriver.ActionChains(driver).click(recent_button).perform()\n",
    "\n",
    "loop, count = True, 0\n",
    "# loop = 0\n",
    "# count = 0\n",
    "while loop and count < 10:\n",
    "\n",
    "    try:\n",
    "        element = WebDriverWait(driver, 5).until(\n",
    "            EC.presence_of_element_located((By.CSS_SELECTOR, '#alex-area > div > div > div > div.cmt_box > div.alex_more > a'))\n",
    "        )\n",
    "        more_button = driver.find_element_by_css_selector('#alex-area > div > div > div > div.cmt_box > div.alex_more > a')\n",
    "        webdriver.ActionChains(driver).click(more_button).perform()\n",
    "        count += 1 \n",
    "        \n",
    "        time.sleep(2)\n",
    "        \n",
    "    except TimeoutException:\n",
    "        loop = False\n",
    "        \n",
    "comment_box = driver.find_element_by_css_selector('#alex-area > div > div > div > div.cmt_box > ul.list_comment')\n",
    "comment_list = comment_box.find_elements_by_tag_name('li')\n",
    "\n",
    "for num, comment_item in enumerate (comment_list): #각각의 li 추출\n",
    "    try:\n",
    "        print(\"[\", str(num+1), \"] \", comment_item.find_element_by_css_selector('div p').text)\n",
    "    except:\n",
    "        pass\n",
    "        \n",
    "\n",
    "driver.quit()"
   ]
  }
 ],
 "metadata": {
  "kernelspec": {
   "display_name": "Python 3",
   "language": "python",
   "name": "python3"
  },
  "language_info": {
   "codemirror_mode": {
    "name": "ipython",
    "version": 3
   },
   "file_extension": ".py",
   "mimetype": "text/x-python",
   "name": "python",
   "nbconvert_exporter": "python",
   "pygments_lexer": "ipython3",
   "version": "3.7.4"
  }
 },
 "nbformat": 4,
 "nbformat_minor": 2
}
