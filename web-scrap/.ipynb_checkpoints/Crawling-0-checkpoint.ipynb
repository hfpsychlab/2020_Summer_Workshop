{
 "cells": [
  {
   "cell_type": "markdown",
   "metadata": {},
   "source": [
    "## Selenium & Scrapy 를 활용한 크롤링\n",
    "\n",
    "### \"크롤링 핵심 코드 패턴\""
   ]
  },
  {
   "cell_type": "markdown",
   "metadata": {},
   "source": [
    "### 1. 라이브러리 임포트"
   ]
  },
  {
   "cell_type": "code",
   "execution_count": null,
   "metadata": {},
   "outputs": [],
   "source": [
    "import requests\n",
    "from bs4 import BeautifulSoup"
   ]
  },
  {
   "cell_type": "markdown",
   "metadata": {},
   "source": [
    "- requests = 웹페이지 가져오는 라이브러리\n",
    "- bs4 = 크롤링 라이브러리\n",
    "\n",
    "from bs4 import BeautifulSoup = bs4라는 라이브러리에서 BeuatifulSoup이라는 특정 Class 가져옴"
   ]
  },
  {
   "cell_type": "markdown",
   "metadata": {},
   "source": [
    "### 2. 웹페이지 가져오기"
   ]
  },
  {
   "cell_type": "code",
   "execution_count": null,
   "metadata": {},
   "outputs": [],
   "source": [
    "res = requests.get('http://abcdefg')"
   ]
  },
  {
   "cell_type": "markdown",
   "metadata": {},
   "source": [
    "1. 컴퓨터끼리 통신 가능하게 한 하드웨어 **network**\n",
    "2. 각 컴퓨터가 가지고 있는 ip주소 => 웹 주소\n",
    "3. 'http://~' 해당 html 에 있는 파일을 'res' 라는 variable에 지정\n",
    "\n",
    "#### HTML 파일 확인하는 법\n",
    "1. Chrome 웹 브라우저/ 오른쪽 클릭 & 페이지 소스 보기 (view page source)"
   ]
  },
  {
   "cell_type": "markdown",
   "metadata": {},
   "source": [
    "### 3. 웹페이지 파싱\n",
    "(parsing = 문자열 의미 분석)"
   ]
  },
  {
   "cell_type": "code",
   "execution_count": null,
   "metadata": {},
   "outputs": [],
   "source": [
    "soup = BeautifulSoup(res.content, 'html.parser')"
   ]
  },
  {
   "cell_type": "markdown",
   "metadata": {},
   "source": [
    "HTML 파싱한 정보가 'soup'이라는 variable에 지정됨"
   ]
  },
  {
   "cell_type": "markdown",
   "metadata": {},
   "source": [
    "### 4. 필요한 데이터 추출"
   ]
  },
  {
   "cell_type": "code",
   "execution_count": null,
   "metadata": {},
   "outputs": [],
   "source": [
    "#4. 필요한 데이터 추출\n",
    "mydata = soup.find('title')"
   ]
  },
  {
   "cell_type": "markdown",
   "metadata": {},
   "source": [
    "1. soup.find()\n",
    "2. variable.get_text()"
   ]
  },
  {
   "cell_type": "markdown",
   "metadata": {},
   "source": [
    " <html>\n",
    "  <head>\n",
    "    <title>Some webpage</title>\n",
    "  </head>\n",
    "<body>\n",
    "<p class=”normal”>This is the first paragraph</p>\n",
    "<p class=”special”>This is the second paragraph. <b>This is in bold.</b></p>\n",
    "  </body>\n",
    "</html>"
   ]
  },
  {
   "cell_type": "markdown",
   "metadata": {},
   "source": [
    "1. **태그**와 **속성**으로 선택 (**find** 함수)\n",
    "crawling_data = soup.find('h1') <br>\n",
    "crawling_data = soup.find(id='title') <br>\n",
    "crawling_data = soup.find('p', class_='cssstyle') <br>\n",
    "crawling_data = soup.find('p', attrs = {'align': 'center'})"
   ]
  },
  {
   "cell_type": "markdown",
   "metadata": {},
   "source": [
    "2. **CSS Selector** 로 선택\n",
    "crawling_data = soup.select('html > title') <br>\n",
    "crawling_data = soup.select('div.article_view') <br>\n",
    "crawling_data = soup.select('#harmonyContainer') <br>\n",
    "crawling_data = soup.select('div#mArticle')"
   ]
  },
  {
   "cell_type": "markdown",
   "metadata": {},
   "source": [
    "### 5. 추출한 데이터 활용"
   ]
  },
  {
   "cell_type": "code",
   "execution_count": null,
   "metadata": {},
   "outputs": [],
   "source": [
    "print(mydata.get_text())"
   ]
  },
  {
   "cell_type": "markdown",
   "metadata": {},
   "source": [
    "## Summary"
   ]
  },
  {
   "cell_type": "markdown",
   "metadata": {},
   "source": [
    "import requests <br>\n",
    "from bs4 import BeautifulSoup <br>\n",
    "\n",
    "res = requests.get(**'http://~'**) *크롤링할 페이지 주소*<br> \n",
    "\n",
    "soup = BeautifulSoup(res.content, **'html.parser'**) <br>\n",
    "\n",
    "mydata = soup.find(**'title'**) *필요한 데이터 추출하는 코드 넣기*<br>\n",
    "\n",
    "print(mydata.get_text())"
   ]
  },
  {
   "cell_type": "code",
   "execution_count": null,
   "metadata": {},
   "outputs": [],
   "source": []
  },
  {
   "cell_type": "code",
   "execution_count": null,
   "metadata": {},
   "outputs": [],
   "source": []
  }
 ],
 "metadata": {
  "kernelspec": {
   "display_name": "Python 3",
   "language": "python",
   "name": "python3"
  },
  "language_info": {
   "codemirror_mode": {
    "name": "ipython",
    "version": 3
   },
   "file_extension": ".py",
   "mimetype": "text/x-python",
   "name": "python",
   "nbconvert_exporter": "python",
   "pygments_lexer": "ipython3",
   "version": "3.7.3"
  }
 },
 "nbformat": 4,
 "nbformat_minor": 2
}
